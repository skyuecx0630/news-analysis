{
 "cells": [
  {
   "cell_type": "markdown",
   "metadata": {},
   "source": [
    "# Import libraries"
   ]
  },
  {
   "cell_type": "code",
   "execution_count": 4,
   "metadata": {},
   "outputs": [],
   "source": [
    "from time import sleep\n",
    "import pandas as pd\n",
    "import os\n",
    "\n",
    "import boto3\n",
    "\n",
    "s3 = boto3.client('s3')\n",
    "comprehend = boto3.client('comprehend')\n",
    "application_autoscaling = boto3.client('application-autoscaling')\n"
   ]
  },
  {
   "cell_type": "code",
   "execution_count": 2,
   "metadata": {},
   "outputs": [],
   "source": [
    "BUCKET_NAME = \"skills-hmoon-dataset\"\n",
    "KEY_PREFIX = \"mynews\"\n",
    "COMPREHEND_DATA_ACCESS_ROLE_ARN = \"arn:aws:iam::856210586235:role/comprehend-custom-role\"\n"
   ]
  },
  {
   "cell_type": "markdown",
   "metadata": {},
   "source": [
    "# Prepare data"
   ]
  },
  {
   "cell_type": "code",
   "execution_count": 25,
   "metadata": {},
   "outputs": [],
   "source": [
    "DATA_ROOT_PATH = \"./data/BBC News Summary/News Articles/\"\n",
    "\n",
    "news_text_file_paths = []\n",
    "\n",
    "for root, dirs, files in os.walk(DATA_ROOT_PATH):\n",
    "    for file in files:\n",
    "        news_text_file_paths.append(f\"{root}/{file}\")\n"
   ]
  },
  {
   "cell_type": "code",
   "execution_count": 28,
   "metadata": {},
   "outputs": [],
   "source": [
    "news_data = []\n",
    "\n",
    "for filepath in news_text_file_paths:\n",
    "    with open(filepath, \"r\") as f:\n",
    "        lines = f.readlines()\n",
    "\n",
    "        title = lines[0]\n",
    "        description = lines[2]\n",
    "        category = filepath.split(\"/\")[-2]\n",
    "        data = (title, description, category, filepath)\n",
    "        news_data.append(data)\n"
   ]
  },
  {
   "cell_type": "code",
   "execution_count": 32,
   "metadata": {},
   "outputs": [
    {
     "data": {
      "text/html": [
       "<div>\n",
       "<style scoped>\n",
       "    .dataframe tbody tr th:only-of-type {\n",
       "        vertical-align: middle;\n",
       "    }\n",
       "\n",
       "    .dataframe tbody tr th {\n",
       "        vertical-align: top;\n",
       "    }\n",
       "\n",
       "    .dataframe thead th {\n",
       "        text-align: right;\n",
       "    }\n",
       "</style>\n",
       "<table border=\"1\" class=\"dataframe\">\n",
       "  <thead>\n",
       "    <tr style=\"text-align: right;\">\n",
       "      <th></th>\n",
       "      <th>title</th>\n",
       "      <th>description</th>\n",
       "      <th>category</th>\n",
       "      <th>filepath</th>\n",
       "    </tr>\n",
       "  </thead>\n",
       "  <tbody>\n",
       "    <tr>\n",
       "      <th>0</th>\n",
       "      <td>Ad sales boost Time Warner profit\\n</td>\n",
       "      <td>Quarterly profits at US media giant TimeWarner...</td>\n",
       "      <td>business</td>\n",
       "      <td>./data/BBC News Summary/News Articles/business...</td>\n",
       "    </tr>\n",
       "    <tr>\n",
       "      <th>1</th>\n",
       "      <td>Dollar gains on Greenspan speech\\n</td>\n",
       "      <td>The dollar has hit its highest level against t...</td>\n",
       "      <td>business</td>\n",
       "      <td>./data/BBC News Summary/News Articles/business...</td>\n",
       "    </tr>\n",
       "    <tr>\n",
       "      <th>2</th>\n",
       "      <td>Yukos unit buyer faces loan claim\\n</td>\n",
       "      <td>The owners of embattled Russian oil giant Yuko...</td>\n",
       "      <td>business</td>\n",
       "      <td>./data/BBC News Summary/News Articles/business...</td>\n",
       "    </tr>\n",
       "    <tr>\n",
       "      <th>3</th>\n",
       "      <td>High fuel prices hit BA's profits\\n</td>\n",
       "      <td>British Airways has blamed high fuel prices fo...</td>\n",
       "      <td>business</td>\n",
       "      <td>./data/BBC News Summary/News Articles/business...</td>\n",
       "    </tr>\n",
       "    <tr>\n",
       "      <th>4</th>\n",
       "      <td>Pernod takeover talk lifts Domecq\\n</td>\n",
       "      <td>Shares in UK drinks and food firm Allied Domec...</td>\n",
       "      <td>business</td>\n",
       "      <td>./data/BBC News Summary/News Articles/business...</td>\n",
       "    </tr>\n",
       "    <tr>\n",
       "      <th>...</th>\n",
       "      <td>...</td>\n",
       "      <td>...</td>\n",
       "      <td>...</td>\n",
       "      <td>...</td>\n",
       "    </tr>\n",
       "    <tr>\n",
       "      <th>2220</th>\n",
       "      <td>BT program to beat dialler scams\\n</td>\n",
       "      <td>BT is introducing two initiatives to help beat...</td>\n",
       "      <td>tech</td>\n",
       "      <td>./data/BBC News Summary/News Articles/tech/397...</td>\n",
       "    </tr>\n",
       "    <tr>\n",
       "      <th>2221</th>\n",
       "      <td>Spam e-mails tempt net shoppers\\n</td>\n",
       "      <td>Computer users across the world continue to ig...</td>\n",
       "      <td>tech</td>\n",
       "      <td>./data/BBC News Summary/News Articles/tech/398...</td>\n",
       "    </tr>\n",
       "    <tr>\n",
       "      <th>2222</th>\n",
       "      <td>Be careful how you code\\n</td>\n",
       "      <td>A new European directive could put software wr...</td>\n",
       "      <td>tech</td>\n",
       "      <td>./data/BBC News Summary/News Articles/tech/399...</td>\n",
       "    </tr>\n",
       "    <tr>\n",
       "      <th>2223</th>\n",
       "      <td>US cyber security chief resigns\\n</td>\n",
       "      <td>The man making sure US computer networks are s...</td>\n",
       "      <td>tech</td>\n",
       "      <td>./data/BBC News Summary/News Articles/tech/400...</td>\n",
       "    </tr>\n",
       "    <tr>\n",
       "      <th>2224</th>\n",
       "      <td>Losing yourself in online gaming\\n</td>\n",
       "      <td>Online role playing games are time-consuming, ...</td>\n",
       "      <td>tech</td>\n",
       "      <td>./data/BBC News Summary/News Articles/tech/401...</td>\n",
       "    </tr>\n",
       "  </tbody>\n",
       "</table>\n",
       "<p>2225 rows × 4 columns</p>\n",
       "</div>"
      ],
      "text/plain": [
       "                                    title  \\\n",
       "0     Ad sales boost Time Warner profit\\n   \n",
       "1      Dollar gains on Greenspan speech\\n   \n",
       "2     Yukos unit buyer faces loan claim\\n   \n",
       "3     High fuel prices hit BA's profits\\n   \n",
       "4     Pernod takeover talk lifts Domecq\\n   \n",
       "...                                   ...   \n",
       "2220   BT program to beat dialler scams\\n   \n",
       "2221    Spam e-mails tempt net shoppers\\n   \n",
       "2222            Be careful how you code\\n   \n",
       "2223    US cyber security chief resigns\\n   \n",
       "2224   Losing yourself in online gaming\\n   \n",
       "\n",
       "                                            description  category  \\\n",
       "0     Quarterly profits at US media giant TimeWarner...  business   \n",
       "1     The dollar has hit its highest level against t...  business   \n",
       "2     The owners of embattled Russian oil giant Yuko...  business   \n",
       "3     British Airways has blamed high fuel prices fo...  business   \n",
       "4     Shares in UK drinks and food firm Allied Domec...  business   \n",
       "...                                                 ...       ...   \n",
       "2220  BT is introducing two initiatives to help beat...      tech   \n",
       "2221  Computer users across the world continue to ig...      tech   \n",
       "2222  A new European directive could put software wr...      tech   \n",
       "2223  The man making sure US computer networks are s...      tech   \n",
       "2224  Online role playing games are time-consuming, ...      tech   \n",
       "\n",
       "                                               filepath  \n",
       "0     ./data/BBC News Summary/News Articles/business...  \n",
       "1     ./data/BBC News Summary/News Articles/business...  \n",
       "2     ./data/BBC News Summary/News Articles/business...  \n",
       "3     ./data/BBC News Summary/News Articles/business...  \n",
       "4     ./data/BBC News Summary/News Articles/business...  \n",
       "...                                                 ...  \n",
       "2220  ./data/BBC News Summary/News Articles/tech/397...  \n",
       "2221  ./data/BBC News Summary/News Articles/tech/398...  \n",
       "2222  ./data/BBC News Summary/News Articles/tech/399...  \n",
       "2223  ./data/BBC News Summary/News Articles/tech/400...  \n",
       "2224  ./data/BBC News Summary/News Articles/tech/401...  \n",
       "\n",
       "[2225 rows x 4 columns]"
      ]
     },
     "execution_count": 32,
     "metadata": {},
     "output_type": "execute_result"
    }
   ],
   "source": [
    "df = pd.DataFrame(news_data, columns=[\"title\", \"description\", \"category\", \"filepath\"])\n",
    "df"
   ]
  },
  {
   "cell_type": "code",
   "execution_count": 42,
   "metadata": {},
   "outputs": [
    {
     "data": {
      "text/plain": [
       "0       Ad sales boost Time Warner profit\\nQuarterly p...\n",
       "1       Dollar gains on Greenspan speech\\nThe dollar h...\n",
       "2       Yukos unit buyer faces loan claim\\nThe owners ...\n",
       "3       High fuel prices hit BA's profits\\nBritish Air...\n",
       "4       Pernod takeover talk lifts Domecq\\nShares in U...\n",
       "                              ...                        \n",
       "2220    BT program to beat dialler scams\\nBT is introd...\n",
       "2221    Spam e-mails tempt net shoppers\\nComputer user...\n",
       "2222    Be careful how you code\\nA new European direct...\n",
       "2223    US cyber security chief resigns\\nThe man makin...\n",
       "2224    Losing yourself in online gaming\\nOnline role ...\n",
       "Name: text, Length: 2225, dtype: object"
      ]
     },
     "execution_count": 42,
     "metadata": {},
     "output_type": "execute_result"
    }
   ],
   "source": [
    "df[\"text\"] = df.apply(lambda x: x[\"title\"] + x[\"description\"], axis=1)\n",
    "df[\"text\"]"
   ]
  },
  {
   "cell_type": "code",
   "execution_count": 43,
   "metadata": {},
   "outputs": [],
   "source": [
    "df.to_csv(\"news_train.csv\", columns=[\"category\", \"text\"], index=False, header=False)"
   ]
  },
  {
   "cell_type": "code",
   "execution_count": 47,
   "metadata": {},
   "outputs": [],
   "source": [
    "s3.upload_file(\n",
    "    Bucket=BUCKET_NAME,\n",
    "    Key=KEY_PREFIX + \"/news_train.csv\",\n",
    "    Filename=\"news_train.csv\"\n",
    ")"
   ]
  },
  {
   "cell_type": "markdown",
   "metadata": {},
   "source": [
    "# Create custom classifier"
   ]
  },
  {
   "cell_type": "code",
   "execution_count": 49,
   "metadata": {},
   "outputs": [
    {
     "data": {
      "text/plain": [
       "'arn:aws:comprehend:us-east-1:856210586235:document-classifier/mynews'"
      ]
     },
     "execution_count": 49,
     "metadata": {},
     "output_type": "execute_result"
    }
   ],
   "source": [
    "train_s3_uri = f\"s3://{BUCKET_NAME}/{KEY_PREFIX}/news_train.csv\"\n",
    "\n",
    "classifier_arn = comprehend.create_document_classifier(\n",
    "    DocumentClassifierName=\"mynews\",\n",
    "    LanguageCode=\"en\",\n",
    "    DataAccessRoleArn=\"arn:aws:iam::856210586235:role/comprehend-custom-role\",\n",
    "    InputDataConfig={\n",
    "        \"DataFormat\": \"COMPREHEND_CSV\",\n",
    "        \"S3Uri\": train_s3_uri,\n",
    "    }\n",
    ")[\"DocumentClassifierArn\"]\n",
    "classifier_arn"
   ]
  },
  {
   "cell_type": "code",
   "execution_count": 51,
   "metadata": {},
   "outputs": [
    {
     "name": "stdout",
     "output_type": "stream",
     "text": [
      "Waiting for classifier: arn:aws:comprehend:us-east-1:856210586235:document-classifier/mynews............................................................................................................................................................................................................................TRAINED\n"
     ]
    }
   ],
   "source": [
    "# classifier_arn = \"arn:aws:comprehend:us-east-1:856210586235:document-classifier/mynews\"\n",
    "status = \"SUBMITTED\"\n",
    "\n",
    "print(f\"Waiting for classifier: {classifier_arn}..\", end=\"\")\n",
    "while status in [\"SUBMITTED\", \"TRAINING\"]:\n",
    "    print(\".\", end=\"\")\n",
    "    sleep(10)\n",
    "    response = comprehend.describe_document_classifier(\n",
    "        DocumentClassifierArn=classifier_arn\n",
    "    )\n",
    "    status = response[\"DocumentClassifierProperties\"][\"Status\"]\n",
    "print(status)"
   ]
  },
  {
   "cell_type": "code",
   "execution_count": 52,
   "metadata": {},
   "outputs": [
    {
     "data": {
      "text/plain": [
       "'arn:aws:comprehend:us-east-1:856210586235:document-classifier-endpoint/mynews-endpoint'"
      ]
     },
     "execution_count": 52,
     "metadata": {},
     "output_type": "execute_result"
    }
   ],
   "source": [
    "endpoint_arn = comprehend.create_endpoint(\n",
    "    EndpointName=\"mynews-endpoint\",\n",
    "    ModelArn=classifier_arn,\n",
    "    DesiredInferenceUnits=1,\n",
    ")[\"EndpointArn\"]\n",
    "endpoint_arn"
   ]
  },
  {
   "cell_type": "code",
   "execution_count": 3,
   "metadata": {},
   "outputs": [
    {
     "name": "stdout",
     "output_type": "stream",
     "text": [
      "Waiting for endpoint: arn:aws:comprehend:us-east-1:856210586235:document-classifier-endpoint/mynews-endpoint...IN_SERVICE\n"
     ]
    }
   ],
   "source": [
    "# endpoint_arn = \"arn:aws:comprehend:us-east-1:856210586235:document-classifier-endpoint/mynews-endpoint\"\n",
    "status = \"CREATING\"\n",
    "\n",
    "print(f\"Waiting for endpoint: {endpoint_arn}..\", end=\"\")\n",
    "while status == \"CREATING\":\n",
    "    print(\".\", end=\"\")\n",
    "    sleep(3)\n",
    "    response = comprehend.describe_endpoint(\n",
    "        EndpointArn=endpoint_arn\n",
    "    )\n",
    "    status = response[\"EndpointProperties\"][\"Status\"]\n",
    "print(status)"
   ]
  },
  {
   "cell_type": "code",
   "execution_count": 55,
   "metadata": {},
   "outputs": [],
   "source": [
    "def classify_document(text, endpoint_arn):\n",
    "    response = comprehend.classify_document(\n",
    "        Text=text,\n",
    "        EndpointArn=endpoint_arn,\n",
    "    )\n",
    "    return response"
   ]
  },
  {
   "cell_type": "code",
   "execution_count": 58,
   "metadata": {},
   "outputs": [
    {
     "data": {
      "text/plain": [
       "{'Classes': [{'Name': 'tech', 'Score': 0.9997249245643616},\n",
       "  {'Name': 'entertainment', 'Score': 9.097243309952319e-05},\n",
       "  {'Name': 'sport', 'Score': 6.961222970858216e-05}],\n",
       " 'ResponseMetadata': {'RequestId': '9c6ce21b-c02b-405b-be79-79c14862933e',\n",
       "  'HTTPStatusCode': 200,\n",
       "  'HTTPHeaders': {'x-amzn-requestid': '9c6ce21b-c02b-405b-be79-79c14862933e',\n",
       "   'content-type': 'application/x-amz-json-1.1',\n",
       "   'content-length': '156',\n",
       "   'date': 'Mon, 21 Aug 2023 06:52:01 GMT'},\n",
       "  'RetryAttempts': 0}}"
      ]
     },
     "execution_count": 58,
     "metadata": {},
     "output_type": "execute_result"
    }
   ],
   "source": [
    "title = \"Musical future for phones\"\n",
    "description = \"Analyst Bill Thompson has seen the future and it is in his son's hands.\"\n",
    "\n",
    "text = f\"{title}\\n{description}\"\n",
    "classify_document(text, endpoint_arn)\n"
   ]
  },
  {
   "cell_type": "markdown",
   "metadata": {},
   "source": [
    "# Autoscale endpoint"
   ]
  },
  {
   "cell_type": "code",
   "execution_count": 5,
   "metadata": {},
   "outputs": [
    {
     "data": {
      "text/plain": [
       "'arn:aws:application-autoscaling:us-east-1:856210586235:scalable-target/0cm96110101d81a24307ac1537372faeaa1e'"
      ]
     },
     "execution_count": 5,
     "metadata": {},
     "output_type": "execute_result"
    }
   ],
   "source": [
    "scalable_target_arn = application_autoscaling.register_scalable_target(\n",
    "    ServiceNamespace=\"comprehend\",\n",
    "    ResourceId=endpoint_arn,\n",
    "    ScalableDimension=\"comprehend:document-classifier-endpoint:DesiredInferenceUnits\",\n",
    "    MinCapacity=1,\n",
    "    MaxCapacity=5\n",
    ")[\"ScalableTargetARN\"]\n",
    "scalable_target_arn"
   ]
  },
  {
   "cell_type": "code",
   "execution_count": 6,
   "metadata": {},
   "outputs": [
    {
     "data": {
      "text/plain": [
       "'arn:aws:autoscaling:us-east-1:856210586235:scalingPolicy:6110101d-81a2-4307-ac15-37372faeaa1e:resource/comprehend/arn:aws:comprehend:us-east-1:856210586235:document-classifier-endpoint/mynews-endpoint:policyName/mynewsEndpointScalingPolicy'"
      ]
     },
     "execution_count": 6,
     "metadata": {},
     "output_type": "execute_result"
    }
   ],
   "source": [
    "scaling_policy = {\n",
    "    \"TargetValue\": 70,\n",
    "    \"PredefinedMetricSpecification\": {\n",
    "        \"PredefinedMetricType\": \"ComprehendInferenceUtilization\"\n",
    "    }\n",
    "}\n",
    "\n",
    "policy_arn = application_autoscaling.put_scaling_policy(\n",
    "    PolicyName=\"mynewsEndpointScalingPolicy\",\n",
    "    PolicyType=\"TargetTrackingScaling\",\n",
    "    ServiceNamespace=\"comprehend\",\n",
    "    ResourceId=endpoint_arn,\n",
    "    ScalableDimension=\"comprehend:document-classifier-endpoint:DesiredInferenceUnits\",\n",
    "    TargetTrackingScalingPolicyConfiguration=scaling_policy\n",
    ")[\"PolicyARN\"]\n",
    "policy_arn"
   ]
  },
  {
   "cell_type": "code",
   "execution_count": null,
   "metadata": {},
   "outputs": [],
   "source": []
  }
 ],
 "metadata": {
  "kernelspec": {
   "display_name": "venv",
   "language": "python",
   "name": "python3"
  },
  "language_info": {
   "codemirror_mode": {
    "name": "ipython",
    "version": 3
   },
   "file_extension": ".py",
   "mimetype": "text/x-python",
   "name": "python",
   "nbconvert_exporter": "python",
   "pygments_lexer": "ipython3",
   "version": "3.11.2"
  },
  "orig_nbformat": 4
 },
 "nbformat": 4,
 "nbformat_minor": 2
}
