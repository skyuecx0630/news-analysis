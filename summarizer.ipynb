{
 "cells": [
  {
   "cell_type": "code",
   "execution_count": 14,
   "metadata": {},
   "outputs": [],
   "source": [
    "from logging import getLogger\n",
    "\n",
    "logger = getLogger(__name__)\n",
    "CLASSIFIER_ENDPOINT_ARN = \"arn:aws:comprehend:us-east-1:856210586235:document-classifier-endpoint/mynews-endpoint\"\n",
    "\n",
    "class News:\n",
    "    def __init__(self, title, description, link=None) -> None:\n",
    "        self.title = title\n",
    "        self.description = description\n",
    "        self.link = link\n",
    "\n",
    "    def __str__(self) -> str:\n",
    "        return f\"{self.title}\\n{self.description}\"\n",
    "\n",
    "\n",
    "class RawNews(News):\n",
    "    def __init__(self, title, description, link=None) -> None:\n",
    "        super().__init__(title, description, link)\n",
    "\n",
    "\n",
    "class MyNewsSummary(News):\n",
    "    def __init__(self, title, description, sentiment, category, link=None) -> None:\n",
    "        super().__init__(title, description, link)\n",
    "        self.sentiment = sentiment\n",
    "        self.category = category\n",
    "\n",
    "    def __str__(self) -> str:\n",
    "        return f\"{self.title} -> {self.category}, {self.sentiment}\\n{self.description}\"\n",
    "\n",
    "\n",
    "class MyNewsSummarizer:\n",
    "    def __init__(self, source_language, target_language, boto_session) -> None:\n",
    "        self.source_language = source_language\n",
    "        self.target_language = target_language\n",
    "        self.translate_client = boto_session.client('translate')\n",
    "        self.comprehend_client = boto_session.client('comprehend')\n",
    "\n",
    "    def _translate_text(self, text):\n",
    "        response = self.translate_client.translate_text(\n",
    "            Text=text,\n",
    "            SourceLanguageCode=self.source_language,\n",
    "            TargetLanguageCode=self.target_language,\n",
    "            Settings={\n",
    "                \"Formality\": \"FORMAL\"\n",
    "            },\n",
    "        )\n",
    "\n",
    "        logger.debug(response)\n",
    "        return response['TranslatedText']\n",
    "    \n",
    "    def _detect_sentiment(self, text):\n",
    "        response = self.comprehend_client.detect_sentiment(\n",
    "            Text=text,\n",
    "            LanguageCode=self.source_language\n",
    "        )\n",
    "\n",
    "        logger.debug(response)\n",
    "        return response[\"Sentiment\"]\n",
    "\n",
    "    def _classify_document(self, text, endpoint_arn):\n",
    "        try:\n",
    "            response = self.comprehend_client.classify_document(\n",
    "                Text=text,\n",
    "                EndpointArn=endpoint_arn,\n",
    "            )\n",
    "        except Exception as e:\n",
    "            logger.error(e)\n",
    "            return \"CLASSIFICATION_FAIL\"\n",
    "\n",
    "        logger.debug(response)\n",
    "        return response[\"Classes\"][0][\"Name\"]\n",
    "\n",
    "    def summarize(self, news: News):\n",
    "        title = news.title\n",
    "        description = news.description\n",
    "\n",
    "        translated_title = self._translate_text(title)\n",
    "        translated_description = self._translate_text(description)\n",
    "\n",
    "        text = f\"{title}. {description}\"\n",
    "        sentiment = self._detect_sentiment(text)\n",
    "        cateogry = self._classify_document(text, CLASSIFIER_ENDPOINT_ARN)\n",
    "        summary = MyNewsSummary(translated_title, translated_description, sentiment, cateogry)\n",
    "        return summary\n",
    "\n"
   ]
  },
  {
   "cell_type": "code",
   "execution_count": null,
   "metadata": {},
   "outputs": [],
   "source": []
  },
  {
   "cell_type": "code",
   "execution_count": 15,
   "metadata": {},
   "outputs": [],
   "source": [
    "import boto3\n",
    "\n",
    "session = boto3.Session()\n",
    "summarizer = MyNewsSummarizer(\"en\", \"ko\", session)\n"
   ]
  },
  {
   "cell_type": "code",
   "execution_count": 17,
   "metadata": {},
   "outputs": [
    {
     "name": "stdout",
     "output_type": "stream",
     "text": [
      "우크라이나 전쟁: 총리, 러시아 연료에서 '단계별' 이동 촉구 -> business, NEGATIVE\n",
      "한편, 독일 수상은 현재로선 러시아 물품 외에는 대안이 없다고 해요.\n"
     ]
    }
   ],
   "source": [
    "title = \"Ukraine war: PM calls for 'step-by-step' move from Russian fuel\"\n",
    "description = \"Meanwhile, the German chancellor says there is no alternative to Russian supplies at the moment.\"\n",
    "news = RawNews(title, description)\n",
    "\n",
    "print(str(summarizer.summarize(news)))"
   ]
  },
  {
   "cell_type": "code",
   "execution_count": 16,
   "metadata": {},
   "outputs": [],
   "source": [
    "logger.setLevel(\"DEBUG\")"
   ]
  }
 ],
 "metadata": {
  "kernelspec": {
   "display_name": "venv",
   "language": "python",
   "name": "python3"
  },
  "language_info": {
   "codemirror_mode": {
    "name": "ipython",
    "version": 3
   },
   "file_extension": ".py",
   "mimetype": "text/x-python",
   "name": "python",
   "nbconvert_exporter": "python",
   "pygments_lexer": "ipython3",
   "version": "3.11.2"
  },
  "orig_nbformat": 4
 },
 "nbformat": 4,
 "nbformat_minor": 2
}
