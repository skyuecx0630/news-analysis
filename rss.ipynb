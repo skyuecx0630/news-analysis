{
 "cells": [
  {
   "cell_type": "code",
   "execution_count": 1,
   "metadata": {},
   "outputs": [],
   "source": [
    "from datetime import datetime, timedelta\n",
    "from time import sleep\n",
    "\n",
    "import feedparser"
   ]
  },
  {
   "cell_type": "code",
   "execution_count": 2,
   "metadata": {},
   "outputs": [],
   "source": [
    "RSS_ENDPOINT = \"http://rss.cnn.com/rss/cnn_latest.rss\""
   ]
  },
  {
   "cell_type": "code",
   "execution_count": 10,
   "metadata": {},
   "outputs": [],
   "source": [
    "class Feed:\n",
    "    def __init__(self, title, description, link, published, media_content) -> None:\n",
    "        self.title = title\n",
    "        self.description = description\n",
    "        self.link = link\n",
    "        self.published = published\n",
    "        self.media_content = media_content\n",
    "\n",
    "    def __str__(self) -> str:\n",
    "        return f\"{self.title}\\n{self.description}\"\n",
    "\n",
    "\n",
    "class NewsRSSParser:\n",
    "    def __init__(self, rss_endpoint, interval=3) -> None:\n",
    "        self.rss_endpoint = rss_endpoint\n",
    "        self.feeds = None\n",
    "        self.interval = timedelta(seconds=interval)\n",
    "        self.last_update = datetime.now() - self.interval\n",
    "    \n",
    "    def _time_to_update(self):\n",
    "        return datetime.now() - self.last_update > self.interval\n",
    "\n",
    "    def _parse(self):\n",
    "        if self._time_to_update():\n",
    "            self.feeds = feedparser.parse(self.rss_endpoint)\n",
    "            self.last_update = datetime.now()\n",
    "        return self.feeds\n",
    "\n",
    "    def get_feeds(self):\n",
    "        raise NotImplementedError\n",
    "    \n",
    "class CNNRSSParser(NewsRSSParser):\n",
    "    def __init__(self, rss_endpoint, interval=3) -> None:\n",
    "        super().__init__(rss_endpoint, interval)\n",
    "    \n",
    "    def _convert_published(self, text):\n",
    "        return datetime.strptime(text, \"%a, %d %b %Y %H:%M:%S GMT\")\n",
    "    \n",
    "    def _convert_media_content(self, media_content):\n",
    "        content = [content for content in media_content if content['width'] == '300' and content['height'] == '300']\n",
    "        return content[0] if content else None\n",
    "\n",
    "    def _convert_feed(self, feed):\n",
    "        print(feed['id'])\n",
    "        title = feed['title']\n",
    "        description = feed['summary']\n",
    "        link = feed['link']\n",
    "        published = self._convert_published(feed['published'])\n",
    "\n",
    "        if 'media_content' in feed:\n",
    "            media_content = self._convert_media_content(feed['media_content'])\n",
    "        else:\n",
    "            media_content = None\n",
    "        return Feed(title, description, link, published, media_content)\n",
    "\n",
    "    def get_feeds(self):\n",
    "        self._parse()\n",
    "\n",
    "        parsed_feeds = [self._convert_feed(feed) for feed in self.feeds['entries']]\n",
    "        return parsed_feeds"
   ]
  },
  {
   "cell_type": "code",
   "execution_count": 11,
   "metadata": {},
   "outputs": [],
   "source": [
    "parser = CNNRSSParser(RSS_ENDPOINT, 3)"
   ]
  },
  {
   "cell_type": "code",
   "execution_count": 12,
   "metadata": {},
   "outputs": [
    {
     "name": "stdout",
     "output_type": "stream",
     "text": [
      "https://www.cnn.com/2023/08/20/americas/bernardo-arevalo-wins-guatemala-presidential-election-intl/index.html\n",
      "https://www.cnn.com/2023/08/03/tech/china-minors-mobile-phone-limits-intl-hnk/index.html\n",
      "https://www.cnn.com/2023/08/20/economy/china-economy-lpr-cuts-hnk-intl/index.html\n",
      "https://www.cnn.com/2023/08/21/weather/tropical-storm-hilary-california-southwest-monday/index.html\n",
      "https://www.cnn.com/us/live-news/hurricane-hilary-path-08-20-23/index.html\n",
      "https://www.cnn.com/europe/live-news/russia-ukraine-war-news-08-21-23/index.html\n",
      "https://www.cnn.com/2023/08/18/us/washington-medical-lake-wildfire-evacuation/index.html\n",
      "https://www.cnn.com/2023/08/21/china/china-national-security-second-cia-spy-intl-hnk/index.html\n",
      "https://www.cnn.com/2023/08/21/politics/trump-georgia-surrender-debate-2024/index.html\n",
      "https://www.cnn.com/2023/08/14/us/maui-wildfires-victims-identified/index.html\n",
      "https://www.cnn.com/2023/08/19/us/hawaii-maui-wildfires-death-toll-saturday/index.html\n",
      "https://www.cnn.com/2023/08/20/football/spain-olga-carmona-father-death-wwc-spt-intl-hnk/index.html\n",
      "https://www.cnn.com/2023/08/20/weather/hurricane-hilary-california-southwest-tropical-storm-sunday/index.html\n",
      "https://www.cnn.com/2023/08/20/tennis/djokovic-alcaraz-cincinnati-tennis-spt-intl/index.html\n",
      "https://www.cnn.com/2023/08/20/asia/north-korea-kim-jong-un-missile-test-trilateral-intl-hnk/index.html\n",
      "https://www.cnn.com/2023/08/20/china/brics-summit-xi-jinping-south-africa-visit-intl-hnk/index.html\n",
      "https://www.cnn.com/2023/08/20/americas/ecuador-election-result-intl-latam/index.html\n",
      "https://www.cnn.com/2023/08/19/us/michael-k-williams-dealer-sentenced/index.html\n",
      "https://www.cnn.com/2023/08/20/football/womens-world-cup-final-spain-queen-letizia-spt-intl/index.html\n",
      "https://www.cnn.com/2023/08/20/asia/thailand-monarchy-kings-sons-return-analysis-intl-hnk/index.html\n",
      "https://www.cnn.com/2023/08/20/europe/putin-brics-no-show-analysis-hnk-intl/index.html\n",
      "https://www.cnn.com/2023/08/20/us/tacoma-milkshake-listeria-deaths/index.html\n",
      "https://www.cnn.com/2023/08/19/business/wwc-australia-new-zealand-tourism-boost-spt-intl-hnk/index.html\n",
      "https://www.cnn.com/2023/08/12/americas/guatemala-presidential-election-second-round-intl-latam/index.html\n",
      "https://www.cnn.com/2023/08/20/americas/ecuador-election-polls-open-intl-latam/index.html\n",
      "https://www.cnn.com/2023/08/20/politics/donald-trump-gop-primary-debates/index.html\n",
      "https://www.cnn.com/2023/08/20/politics/asa-hutchinson-republican-debate-cnntv/index.html\n",
      "https://www.cnn.com/2023/08/10/politics/first-republican-debate-who-has-qualified/index.html\n",
      "https://www.cnn.com/2023/08/20/business/flights-hilary-cancellations/index.html\n",
      "https://www.cnn.com/2023/08/20/football/spain-womens-world-cup-2023-victory-reaction-spt-intl/index.html\n",
      "Anti-corruption candidate Bernardo Arévalo wins Guatemala's presidential election\n",
      "With more than 95% of the ballots counted, anti-corruption candidate Bernardo Arévalo, from the progressive Movimiento Semilla party, appeared to have won Guatemala's presidential election on Sunday, beating former first lady Sandra Torres by 59.1% to 36.1% of votes cast.\n"
     ]
    }
   ],
   "source": [
    "feeds = parser.get_feeds()\n",
    "print(list(map(str, feeds))[0])"
   ]
  },
  {
   "cell_type": "code",
   "execution_count": null,
   "metadata": {},
   "outputs": [],
   "source": []
  },
  {
   "cell_type": "code",
   "execution_count": null,
   "metadata": {},
   "outputs": [],
   "source": []
  }
 ],
 "metadata": {
  "kernelspec": {
   "display_name": "venv",
   "language": "python",
   "name": "python3"
  },
  "language_info": {
   "codemirror_mode": {
    "name": "ipython",
    "version": 3
   },
   "file_extension": ".py",
   "mimetype": "text/x-python",
   "name": "python",
   "nbconvert_exporter": "python",
   "pygments_lexer": "ipython3",
   "version": "3.11.2"
  },
  "orig_nbformat": 4
 },
 "nbformat": 4,
 "nbformat_minor": 2
}
